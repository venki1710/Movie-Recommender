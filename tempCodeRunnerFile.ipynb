data = pd.read_csv('processed.csv')
cv = CountVectorizer()
count_matrix = cv.fit_transform(data['final'])